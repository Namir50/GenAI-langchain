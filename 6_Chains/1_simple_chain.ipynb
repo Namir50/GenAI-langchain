{
 "cells": [
  {
   "cell_type": "code",
   "execution_count": 1,
   "id": "91f6f4e0",
   "metadata": {},
   "outputs": [
    {
     "name": "stderr",
     "output_type": "stream",
     "text": [
      "c:\\Users\\LENOVO\\Documents\\My_Documents\\GenAI-langchain\\genaivenv\\Lib\\site-packages\\tqdm\\auto.py:21: TqdmWarning: IProgress not found. Please update jupyter and ipywidgets. See https://ipywidgets.readthedocs.io/en/stable/user_install.html\n",
      "  from .autonotebook import tqdm as notebook_tqdm\n",
      "None of PyTorch, TensorFlow >= 2.0, or Flax have been found. Models won't be available and only tokenizers, configuration and file/data utilities can be used.\n"
     ]
    }
   ],
   "source": [
    "from langchain_google_genai import ChatGoogleGenerativeAI\n",
    "from dotenv import load_dotenv\n",
    "from langchain_core.prompts import PromptTemplate\n",
    "from langchain_core.output_parsers import StrOutputParser"
   ]
  },
  {
   "cell_type": "code",
   "execution_count": 2,
   "id": "d9a3e435",
   "metadata": {},
   "outputs": [
    {
     "data": {
      "text/plain": [
       "True"
      ]
     },
     "execution_count": 2,
     "metadata": {},
     "output_type": "execute_result"
    }
   ],
   "source": [
    "load_dotenv()"
   ]
  },
  {
   "cell_type": "code",
   "execution_count": 3,
   "id": "6fb9e003",
   "metadata": {},
   "outputs": [],
   "source": [
    "prompt = PromptTemplate(\n",
    "    template = 'Generate 5 interesting facts about {topic}',\n",
    "    input_variables= ['topic']\n",
    ")"
   ]
  },
  {
   "cell_type": "code",
   "execution_count": 4,
   "id": "99fcb036",
   "metadata": {},
   "outputs": [],
   "source": [
    "model = ChatGoogleGenerativeAI(model = 'gemini-2.5-pro')"
   ]
  },
  {
   "cell_type": "code",
   "execution_count": 5,
   "id": "dd762f3e",
   "metadata": {},
   "outputs": [],
   "source": [
    "parser = StrOutputParser()"
   ]
  },
  {
   "cell_type": "code",
   "execution_count": 6,
   "id": "f97cbfa9",
   "metadata": {},
   "outputs": [],
   "source": [
    "chain = prompt | model | parser"
   ]
  },
  {
   "cell_type": "code",
   "execution_count": 7,
   "id": "d3475058",
   "metadata": {},
   "outputs": [],
   "source": [
    "result = chain.invoke({'topic':'cricket'})"
   ]
  },
  {
   "cell_type": "code",
   "execution_count": 8,
   "id": "95b705c3",
   "metadata": {},
   "outputs": [
    {
     "name": "stdout",
     "output_type": "stream",
     "text": [
      "Of course! Here are 5 interesting facts about the sport of cricket:\n",
      "\n",
      "1.  **The First International Match Was Between the USA and Canada.**\n",
      "    While most people associate international cricket with England and Australia, the first-ever international match was played between the United States and Canada in 1844 at St George's Cricket Club in New York. The match, which Canada won by 23 runs, predates the famous England vs. Australia rivalry by 33 years.\n",
      "\n",
      "2.  **The Longest Cricket Match Lasted 12 Days and Still Ended in a Draw.**\n",
      "    In 1939, a \"timeless Test\" was played between South Africa and England in Durban. The match was played to a finish, regardless of how long it took. After 10 days of play (interrupted by two rest days), the match had to be abandoned as a draw because the English team would have otherwise missed their boat back home.\n",
      "\n",
      "3.  **A Batsman Can Be Given Out Without a Ball Even Being Bowled.**\n",
      "    One of the rarest forms of dismissal in cricket is being \"timed out.\" If a new batsman fails to arrive at the crease and be ready to face the next ball within three minutes of the previous batsman getting out, the fielding side can appeal and have them declared out. This happened for the first time in international cricket in the 2023 World Cup, when Sri Lanka's Angelo Mathews was dismissed against Bangladesh.\n",
      "\n",
      "4.  **Sir Donald Bradman Needed Just Four Runs in His Final Innings to Average 100.**\n",
      "    The Australian legend is widely considered the greatest batsman of all time, with a staggering career Test average of 99.94. In his final match, he only needed to score four runs to secure a career average of 100. In a dramatic turn of events, he was dismissed for a duck (zero runs) on his second ball, finishing his career just shy of the \"perfect\" milestone.\n",
      "\n",
      "5.  **One Bowler Took 19 Out of a Possible 20 Wickets in a Single Match.**\n",
      "    In a 1956 Test match between England and Australia, English off-spin bowler Jim Laker achieved the seemingly impossible. He took 9 wickets for 37 runs in the first innings and then all 10 wickets for 53 runs in the second. His final match figures of 19 wickets for 90 runs remain the world record for a first-class match and are considered one of the most dominant individual performances in any sport.\n"
     ]
    }
   ],
   "source": [
    "print(result)"
   ]
  },
  {
   "cell_type": "code",
   "execution_count": null,
   "id": "0ffce8df",
   "metadata": {},
   "outputs": [],
   "source": [
    "chain.get_graph().print_ascii()"
   ]
  },
  {
   "cell_type": "code",
   "execution_count": null,
   "id": "e8c7fc91",
   "metadata": {},
   "outputs": [],
   "source": []
  },
  {
   "cell_type": "code",
   "execution_count": null,
   "id": "97b58b7f",
   "metadata": {},
   "outputs": [],
   "source": []
  }
 ],
 "metadata": {
  "kernelspec": {
   "display_name": "genaivenv",
   "language": "python",
   "name": "python3"
  },
  "language_info": {
   "codemirror_mode": {
    "name": "ipython",
    "version": 3
   },
   "file_extension": ".py",
   "mimetype": "text/x-python",
   "name": "python",
   "nbconvert_exporter": "python",
   "pygments_lexer": "ipython3",
   "version": "3.13.5"
  }
 },
 "nbformat": 4,
 "nbformat_minor": 5
}
