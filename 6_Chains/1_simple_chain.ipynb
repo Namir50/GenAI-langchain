{
 "cells": [
  {
   "cell_type": "code",
   "execution_count": 12,
   "id": "91f6f4e0",
   "metadata": {},
   "outputs": [],
   "source": [
    "from langchain_google_genai import ChatGoogleGenerativeAI\n",
    "from dotenv import load_dotenv\n",
    "from langchain_core.prompts import PromptTemplate\n",
    "from langchain_core.output_parsers import StrOutputParser"
   ]
  },
  {
   "cell_type": "code",
   "execution_count": 13,
   "id": "d9a3e435",
   "metadata": {},
   "outputs": [
    {
     "data": {
      "text/plain": [
       "True"
      ]
     },
     "execution_count": 13,
     "metadata": {},
     "output_type": "execute_result"
    }
   ],
   "source": [
    "load_dotenv()"
   ]
  },
  {
   "cell_type": "code",
   "execution_count": 14,
   "id": "6fb9e003",
   "metadata": {},
   "outputs": [],
   "source": [
    "prompt = PromptTemplate(\n",
    "    template = 'Generate 5 interesting facts about {topic}',\n",
    "    input_variables= ['topic']\n",
    ")"
   ]
  },
  {
   "cell_type": "code",
   "execution_count": 18,
   "id": "99fcb036",
   "metadata": {},
   "outputs": [],
   "source": [
    "model = ChatGoogleGenerativeAI(model = 'gemini-2.5-pro')"
   ]
  },
  {
   "cell_type": "code",
   "execution_count": 19,
   "id": "dd762f3e",
   "metadata": {},
   "outputs": [],
   "source": [
    "parser = StrOutputParser()"
   ]
  },
  {
   "cell_type": "code",
   "execution_count": 20,
   "id": "f97cbfa9",
   "metadata": {},
   "outputs": [],
   "source": [
    "chain = prompt | model | parser"
   ]
  },
  {
   "cell_type": "code",
   "execution_count": 22,
   "id": "d3475058",
   "metadata": {},
   "outputs": [],
   "source": [
    "result = chain.invoke({'topic':'cricket'})"
   ]
  },
  {
   "cell_type": "code",
   "execution_count": 23,
   "id": "95b705c3",
   "metadata": {},
   "outputs": [
    {
     "name": "stdout",
     "output_type": "stream",
     "text": [
      "Of course! Here are 5 interesting facts about cricket that go beyond the basics:\n",
      "\n",
      "### 1. The First International Match Was Between the USA and Canada\n",
      "While most people associate international cricket with England and Australia, the first-ever international match was actually played between the **United States and Canada in 1844**. The match took place in New York City and was watched by over 10,000 spectators, with Canada winning by 23 runs. This historic game predates the first official Test match between England and Australia by 33 years.\n",
      "\n",
      "### 2. The Longest Cricket Match Lasted 9 Days and Still Ended in a Draw\n",
      "The record for the longest cricket match belongs to the \"timeless\" Test between **South Africa and England in 1939**. Unlike modern Tests, this match was scheduled to be played to a conclusion, regardless of how long it took. After nine days of play (spread over 12 days), the match had to be abandoned as a draw because the English team needed to catch their ship back home.\n",
      "\n",
      "### 3. A Batter Can Be Given \"Out\" Without the Bowler Even Bowling a Ball\n",
      "There are several incredibly rare ways a batter can be dismissed, some of which can happen before a delivery is even bowled. The most famous is being **\"Timed Out.\"** If a new batter takes longer than the allotted time (currently two minutes in international cricket) to reach the crease after the previous wicket has fallen, the fielding side can appeal, and the umpire can give them out. In 2023, Sri Lanka's Angelo Mathews became the first player in international history to be dismissed this way.\n",
      "\n",
      "### 4. The Ashes Trophy is a Tiny Urn Containing Burnt Bails\n",
      "The famous Ashes trophy, fiercely contested between England and Australia, is not a grand cup. It's a small terracotta urn, only about 11 cm (4.3 inches) tall. The story goes that after Australia defeated England on English soil for the first time in 1882, a British newspaper published a mock obituary stating that English cricket had died. The \"body\" was to be cremated and the \"ashes\" taken to Australia. The urn is believed to contain the ashes of a burnt cricket bail from that tour.\n",
      "\n",
      "### 5. One Law of Cricket Has Remained Unchanged for Over 275 Years\n",
      "While the rules of cricket have evolved significantly over the centuries, one fundamental law has remained constant since the first official code was written in 1744: **the length of the pitch**. The distance between the wickets has always been **22 yards (or one chain)**. It is the literal and figurative heart of the game that has connected every generation of cricketers.\n"
     ]
    }
   ],
   "source": [
    "print(result)"
   ]
  },
  {
   "cell_type": "code",
   "execution_count": null,
   "id": "0ffce8df",
   "metadata": {},
   "outputs": [],
   "source": [
    "chain.get_graph().print_ascii()"
   ]
  },
  {
   "cell_type": "code",
   "execution_count": null,
   "id": "e8c7fc91",
   "metadata": {},
   "outputs": [],
   "source": []
  },
  {
   "cell_type": "code",
   "execution_count": null,
   "id": "97b58b7f",
   "metadata": {},
   "outputs": [],
   "source": []
  }
 ],
 "metadata": {
  "kernelspec": {
   "display_name": "genaivenv",
   "language": "python",
   "name": "python3"
  },
  "language_info": {
   "codemirror_mode": {
    "name": "ipython",
    "version": 3
   },
   "file_extension": ".py",
   "mimetype": "text/x-python",
   "name": "python",
   "nbconvert_exporter": "python",
   "pygments_lexer": "ipython3",
   "version": "3.13.5"
  }
 },
 "nbformat": 4,
 "nbformat_minor": 5
}
