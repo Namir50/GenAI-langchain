{
 "cells": [
  {
   "cell_type": "code",
   "execution_count": 41,
   "id": "d375bf51",
   "metadata": {},
   "outputs": [],
   "source": [
    "from langchain_google_genai import ChatGoogleGenerativeAI\n",
    "from dotenv import load_dotenv\n",
    "from langchain_core.prompts import PromptTemplate\n",
    "from langchain_core.output_parsers import StrOutputParser"
   ]
  },
  {
   "cell_type": "code",
   "execution_count": 42,
   "id": "d4990c72",
   "metadata": {},
   "outputs": [
    {
     "data": {
      "text/plain": [
       "True"
      ]
     },
     "execution_count": 42,
     "metadata": {},
     "output_type": "execute_result"
    }
   ],
   "source": [
    "load_dotenv()"
   ]
  },
  {
   "cell_type": "code",
   "execution_count": 43,
   "id": "12d1201f",
   "metadata": {},
   "outputs": [],
   "source": [
    "prompt1 = PromptTemplate(\n",
    "    template = 'Generate a detailed report on {topic}',\n",
    "    input_variables=['topic']\n",
    ")"
   ]
  },
  {
   "cell_type": "code",
   "execution_count": 44,
   "id": "fe5125ef",
   "metadata": {},
   "outputs": [],
   "source": [
    "prompt2 = PromptTemplate(\n",
    "    template = 'Generate a 5 pointer summary from following {text}',\n",
    "    input_variables=['text']\n",
    ")"
   ]
  },
  {
   "cell_type": "code",
   "execution_count": 45,
   "id": "ba557d3e",
   "metadata": {},
   "outputs": [],
   "source": [
    "model = ChatGoogleGenerativeAI(model = 'gemini-2.5-pro')"
   ]
  },
  {
   "cell_type": "code",
   "execution_count": 46,
   "id": "2d6b2d24",
   "metadata": {},
   "outputs": [],
   "source": [
    "parser = StrOutputParser()"
   ]
  },
  {
   "cell_type": "code",
   "execution_count": 47,
   "id": "09492f85",
   "metadata": {},
   "outputs": [],
   "source": [
    "chain1 = prompt1 | model | parser | prompt2 | model | parser"
   ]
  },
  {
   "cell_type": "code",
   "execution_count": 48,
   "id": "c2a3bf4f",
   "metadata": {},
   "outputs": [],
   "source": [
    "result = chain1.invoke({'topic':'Artitifial Intelligence'})"
   ]
  },
  {
   "cell_type": "code",
   "execution_count": 49,
   "id": "c2a52ac0",
   "metadata": {},
   "outputs": [
    {
     "name": "stdout",
     "output_type": "stream",
     "text": [
      "Of course. Here is a 5-point summary of the provided report on Artificial Intelligence:\n",
      "\n",
      "1.  **Fundamental Concept and Core Technologies:** Artificial Intelligence (AI) is the simulation of human intelligence in machines, powered by core technologies like Machine Learning (ML), Deep Learning (DL), and Natural Language Processing (NLP) that enable systems to learn, reason, and problem-solve.\n",
      "\n",
      "2.  **Evolution and Current State:** The field has evolved through historical cycles of optimism (\"AI summers\") and disillusionment (\"AI winters\"). Today, driven by Big Data and powerful computing, we are in an AI boom, though we have only achieved Artificial Narrow Intelligence (ANI)—AI designed for specific tasks—not the human-like Artificial General Intelligence (AGI).\n",
      "\n",
      "3.  **Transformative Industry Applications:** AI is a practical tool that is actively transforming major industries by driving efficiency and innovation. Key applications include disease diagnosis in healthcare, fraud detection in finance, autonomous vehicles in transportation, and personalized recommendations in retail and entertainment.\n",
      "\n",
      "4.  **Significant Ethical and Societal Challenges:** The rapid proliferation of AI raises critical concerns that must be addressed, including algorithmic bias inherited from data, threats to privacy and surveillance, potential for job displacement, and the lack of transparency in AI decision-making (the \"black box\" problem).\n",
      "\n",
      "5.  **The Future Requires Responsible Governance:** AI is a powerful dual-use technology with immense potential for both benefit and harm. Its future trajectory is toward more explainable and multimodal systems, but its positive impact depends on responsible development guided by strong ethical frameworks and human-centric governance.\n"
     ]
    }
   ],
   "source": [
    "print(result)"
   ]
  },
  {
   "cell_type": "code",
   "execution_count": null,
   "id": "21c2500a",
   "metadata": {},
   "outputs": [],
   "source": []
  }
 ],
 "metadata": {
  "kernelspec": {
   "display_name": "genaivenv",
   "language": "python",
   "name": "python3"
  },
  "language_info": {
   "codemirror_mode": {
    "name": "ipython",
    "version": 3
   },
   "file_extension": ".py",
   "mimetype": "text/x-python",
   "name": "python",
   "nbconvert_exporter": "python",
   "pygments_lexer": "ipython3",
   "version": "3.13.5"
  }
 },
 "nbformat": 4,
 "nbformat_minor": 5
}
